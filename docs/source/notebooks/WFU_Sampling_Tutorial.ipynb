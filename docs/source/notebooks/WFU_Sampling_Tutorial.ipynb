{
 "cells": [
  {
   "cell_type": "markdown",
   "id": "d7cf8016-411d-42e5-a202-fd2d43c80111",
   "metadata": {},
   "source": [
    "# Sampling Over Waveform Uncertainty"
   ]
  },
  {
   "cell_type": "markdown",
   "id": "94594295-2bd4-4869-911a-009792385a8c",
   "metadata": {},
   "source": [
    "In this tutorial, we demonstrate using this package to construct a prior of waveform uncertainty parameters and then using bilby to sample them. For more information, see [Equations and Notation](https://waveformuncertainty.readthedocs.io/en/latest/WFU_Equations.html) and [Likelihood Derivation](https://waveformuncertainty.readthedocs.io/en/latest/Likelihood_Equation.html). This notebook can be downloaded [here](https://github.com/RyanSR71/waveform_uncertainty/blob/main/docs/source/notebooks/WFU_Sampling_Tutorial.ipynb)."
   ]
  },
  {
   "cell_type": "markdown",
   "id": "67ae3df9-77f6-4f13-b322-b6b204b0d59e",
   "metadata": {},
   "source": [
    "The following cell is everything we need to import to run this tutorial. We also import the `WaveformUncertainty` package, which will need to be installed first. See [Installation](https://waveformuncertainty.readthedocs.io/en/latest/installation.html#installation)."
   ]
  },
  {
   "cell_type": "code",
   "execution_count": 17,
   "id": "89645c73-6640-4d40-8a12-87c3fbafc991",
   "metadata": {},
   "outputs": [],
   "source": [
    "import os\n",
    "import numpy as np\n",
    "import bilby\n",
    "import matplotlib.pyplot as plt\n",
    "import lal\n",
    "import pesummary\n",
    "import scipy\n",
    "from pesummary.gw.file.strain import StrainData\n",
    "from pesummary.io import read\n",
    "import requests\n",
    "import WaveformUncertainty as wfu"
   ]
  },
  {
   "cell_type": "markdown",
   "id": "83e8d5e2-b61d-4f39-ae04-d9e2ae32e4e6",
   "metadata": {},
   "source": [
    "## Setting Up the Prior"
   ]
  },
  {
   "cell_type": "markdown",
   "id": "f1264a23-98e8-40a2-87ae-855d12d8c629",
   "metadata": {},
   "source": [
    "Here we set up a binary neutron star (BNS) prior with bilby."
   ]
  },
  {
   "cell_type": "code",
   "execution_count": 3,
   "id": "41c21120-8ac3-4a48-b28f-e4a8837e3dcd",
   "metadata": {},
   "outputs": [],
   "source": [
    "prior = bilby.core.prior.PriorDict()\n",
    "\n",
    "prior['chirp_mass'] = bilby.core.prior.Uniform(name='chirp_mass',latex_label=r'$\\mathcal{M}$',minimum=1.195,maximum=1.20,unit=r'$\\mathrm{M}_{\\odot}$')\n",
    "prior['mass_ratio'] = bilby.core.prior.Uniform(name='mass_ratio',latex_label=r'$q$',minimum=0.334,maximum=1.000)\n",
    "prior['chi_1'] = bilby.core.prior.Uniform(name='chi_1',latex_label=r'$\\chi_{1}$',minimum=-0.05, maximum=0.05)\n",
    "prior['chi_2'] = bilby.core.prior.Uniform(name='chi_2',latex_label=r'$\\chi_{2}$',minimum=-0.05, maximum=0.05)\n",
    "prior['lambda_1'] = bilby.core.prior.Uniform(name=\"lambda_1\",latex_label=r'$\\Lambda_{1}$',minimum=0.01, maximum=5000.0)\n",
    "prior['lambda_2'] = bilby.core.prior.Uniform(name=\"lambda_2\",latex_label=r'$\\Lambda_{2}$',minimum=0.01, maximum=5000.0)\n",
    "prior['phase'] = bilby.core.prior.Uniform(name='phase',latex_label=r'$\\phi$',minimum=0,maximum=6.2831853071795865,boundary='periodic')\n",
    "prior['luminosity_distance'] = bilby.gw.prior.UniformSourceFrame(name='luminosity_distance',latex_label=r'$\\mathcal{L}_{D}$',minimum=1, maximum=100, unit='Mpc')\n",
    "prior['geocent_time'] = bilby.core.prior.Uniform(name=\"geocent_time\",latex_label=r'$t_{c}$',minimum=1187008882.3, maximum=1187008882.5,unit='s')\n",
    "prior['phi_12'] = bilby.core.prior.Uniform(name='phi_12',latex_label=r'$\\phi_{12}$',minimum=0,maximum=6.2831853071795865,boundary='periodic')\n",
    "prior['phi_jl'] = bilby.core.prior.Uniform(name='phi_jl',latex_label=r'$\\phi_{JL}$',minimum=0,maximum=6.2831853071795865,boundary='periodic')\n",
    "prior['theta_jn'] = bilby.core.prior.Sine(name='theta_jn',latex_label=r'$\\theta_{JN}$')\n",
    "prior['psi'] = bilby.core.prior.DeltaFunction(name='psi',latex_label=r'$\\psi$',peak=1.2695709169413083)\n",
    "prior['ra'] = bilby.core.prior.DeltaFunction(name='ra',latex_label=r'$\\alpha_{r}$',peak=3.44616)\n",
    "prior['dec'] = bilby.core.prior.DeltaFunction(name='dec',latex_label=r'$\\delta$',peak=-0.408084)"
   ]
  },
  {
   "cell_type": "markdown",
   "id": "22ce2ea5-0e0b-46f1-9b0a-3853a51692e8",
   "metadata": {},
   "source": [
    "<br>\n",
    "\n",
    "We then load in a set of parameterized waveform differences from which we will get our waveform uncertainties."
   ]
  },
  {
   "cell_type": "code",
   "execution_count": 4,
   "id": "5b4152bf-a448-45ef-9297-781d1177753d",
   "metadata": {},
   "outputs": [],
   "source": [
    "# downloading the file and saving to a folder\n",
    "try:\n",
    "    os.mkdir('tutorial_files')\n",
    "except:\n",
    "    pass\n",
    "file = requests.get('https://github.com/RyanSR71/waveform_uncertainty/raw/main/files/parameterization_nsamples_1000-4.npy', allow_redirects=True)\n",
    "open(\"tutorial_files/parameterization_nsamples_1000.npy\", 'wb').write(file.content)\n",
    "\n",
    "# loading the file\n",
    "parameterization = np.load(\"tutorial_files/parameterization_nsamples_1000.npy\",allow_pickle=True)\n",
    "\n",
    "# calculating the means and standard deviations of the waveform differences\n",
    "mean_amplitude_difference,amplitude_uncertainty,mean_phase_difference,phase_uncertainty,frequency_grid = wfu.uncertainties_from_parameterization(parameterization,linear=True,resolution=0.1)"
   ]
  },
  {
   "cell_type": "markdown",
   "id": "69fc0535-8045-4a89-98da-89665ebab6fe",
   "metadata": {},
   "source": [
    "<br>\n",
    "\n",
    "Using the standard deviations of our waveform differences,  $\\delta\\mathcal{A}$ and $\\delta\\Phi$, and the means of our waveform differences, $\\overline{\\Delta\\mathcal{A}}$ and $\\overline{\\Delta\\Phi}$, we set up our prior distributions and add it to the previously defined prior."
   ]
  },
  {
   "cell_type": "code",
   "execution_count": 5,
   "id": "fa07280c-5af7-4ec6-8e4d-a48168f2cfd9",
   "metadata": {},
   "outputs": [],
   "source": [
    "# we also choose to use 6 geometrically spaced frequency nodes, as that configuration yields the best results\n",
    "prior,frequency_nodes = wfu.WFU_prior(mean_amplitude_difference=mean_amplitude_difference,\n",
    "                                     amplitude_uncertainty=amplitude_uncertainty,\n",
    "                                     mean_phase_difference=mean_phase_difference,\n",
    "                                     phase_uncertainty=phase_uncertainty,spacing='geometric',\n",
    "                                     frequency_grid=frequency_grid,nnodes=6,prior=prior)"
   ]
  },
  {
   "cell_type": "markdown",
   "id": "058ac450-1c7d-4407-be44-ef7325a286a1",
   "metadata": {},
   "source": [
    "<br>\n",
    "\n",
    "If we look at the prior, we confirm that the new parameters have been added properly:"
   ]
  },
  {
   "cell_type": "code",
   "execution_count": 6,
   "id": "73da948d-6eeb-4f8a-bd24-b331dabd9a10",
   "metadata": {},
   "outputs": [
    {
     "data": {
      "text/plain": [
       "{'chirp_mass': Uniform(minimum=1.195, maximum=1.2, name='chirp_mass', latex_label='$\\\\mathcal{M}$', unit='$\\\\mathrm{M}_{\\\\odot}$', boundary=None),\n",
       " 'mass_ratio': Uniform(minimum=0.334, maximum=1.0, name='mass_ratio', latex_label='$q$', unit=None, boundary=None),\n",
       " 'chi_1': Uniform(minimum=-0.05, maximum=0.05, name='chi_1', latex_label='$\\\\chi_{1}$', unit=None, boundary=None),\n",
       " 'chi_2': Uniform(minimum=-0.05, maximum=0.05, name='chi_2', latex_label='$\\\\chi_{2}$', unit=None, boundary=None),\n",
       " 'lambda_1': Uniform(minimum=0.01, maximum=5000.0, name='lambda_1', latex_label='$\\\\Lambda_{1}$', unit=None, boundary=None),\n",
       " 'lambda_2': Uniform(minimum=0.01, maximum=5000.0, name='lambda_2', latex_label='$\\\\Lambda_{2}$', unit=None, boundary=None),\n",
       " 'phase': Uniform(minimum=0, maximum=6.283185307179586, name='phase', latex_label='$\\\\phi$', unit=None, boundary='periodic'),\n",
       " 'luminosity_distance': bilby.gw.prior.UniformSourceFrame(minimum=1.0, maximum=100.0, cosmology='Planck15', name='luminosity_distance', latex_label='$\\\\mathcal{L}_{D}$', unit='Mpc', boundary=None),\n",
       " 'geocent_time': Uniform(minimum=1187008882.3, maximum=1187008882.5, name='geocent_time', latex_label='$t_{c}$', unit='s', boundary=None),\n",
       " 'phi_12': Uniform(minimum=0, maximum=6.283185307179586, name='phi_12', latex_label='$\\\\phi_{12}$', unit=None, boundary='periodic'),\n",
       " 'phi_jl': Uniform(minimum=0, maximum=6.283185307179586, name='phi_jl', latex_label='$\\\\phi_{JL}$', unit=None, boundary='periodic'),\n",
       " 'theta_jn': Sine(minimum=0, maximum=3.141592653589793, name='theta_jn', latex_label='$\\\\theta_{JN}$', unit=None, boundary=None),\n",
       " 'psi': DeltaFunction(peak=1.2695709169413083, name='psi', latex_label='$\\\\psi$', unit=None),\n",
       " 'ra': DeltaFunction(peak=3.44616, name='ra', latex_label='$\\\\alpha_{r}$', unit=None),\n",
       " 'dec': DeltaFunction(peak=-0.408084, name='dec', latex_label='$\\\\delta$', unit=None),\n",
       " 'alpha_1': Gaussian(mu=-0.00016379829877945524, sigma=0.00037705033907861895, name='alpha_1', latex_label='$\\\\alpha_{1}$', unit=None, boundary=None),\n",
       " 'alpha_2': Gaussian(mu=-0.0003084336920584768, sigma=0.00029119129149070543, name='alpha_2', latex_label='$\\\\alpha_{2}$', unit=None, boundary=None),\n",
       " 'alpha_3': Gaussian(mu=-0.0021073614802277567, sigma=0.006950389534454231, name='alpha_3', latex_label='$\\\\alpha_{3}$', unit=None, boundary=None),\n",
       " 'alpha_4': Gaussian(mu=-0.12177215479564471, sigma=0.106805566085621, name='alpha_4', latex_label='$\\\\alpha_{4}$', unit=None, boundary=None),\n",
       " 'alpha_5': Gaussian(mu=-0.22891463463371534, sigma=0.1534159832801927, name='alpha_5', latex_label='$\\\\alpha_{5}$', unit=None, boundary=None),\n",
       " 'alpha_6': Gaussian(mu=-0.20695054111373654, sigma=0.1717169285655682, name='alpha_6', latex_label='$\\\\alpha_{6}$', unit=None, boundary=None),\n",
       " 'phi_1': Gaussian(mu=0.04028981539935761, sigma=0.04437273941720905, name='phi_1', latex_label='$\\\\varphi_{1}$', unit=None, boundary=None),\n",
       " 'phi_2': Gaussian(mu=-0.020457924057040004, sigma=0.047179703245601966, name='phi_2', latex_label='$\\\\varphi_{2}$', unit=None, boundary=None),\n",
       " 'phi_3': Gaussian(mu=0.14754863841504637, sigma=0.20476209568543643, name='phi_3', latex_label='$\\\\varphi_{3}$', unit=None, boundary=None),\n",
       " 'phi_4': Gaussian(mu=1.057177720794057, sigma=0.9705549366601802, name='phi_4', latex_label='$\\\\varphi_{4}$', unit=None, boundary=None),\n",
       " 'phi_5': Gaussian(mu=3.085456635145539, sigma=2.5108738272113023, name='phi_5', latex_label='$\\\\varphi_{5}$', unit=None, boundary=None),\n",
       " 'phi_6': Gaussian(mu=3.0753500086231833, sigma=2.5396944699703736, name='phi_6', latex_label='$\\\\varphi_{6}$', unit=None, boundary=None)}"
      ]
     },
     "execution_count": 6,
     "metadata": {},
     "output_type": "execute_result"
    }
   ],
   "source": [
    "prior"
   ]
  },
  {
   "cell_type": "markdown",
   "id": "c3eefbc1-6497-4fa1-9a6a-f1d67b291fbc",
   "metadata": {},
   "source": [
    "<br>\n",
    "\n",
    "## Visualizing the Prior"
   ]
  },
  {
   "cell_type": "markdown",
   "id": "bf58ea84-a2f4-4467-9858-35259d1bf13e",
   "metadata": {},
   "source": [
    "Our model waveform uncertainty priors are defined as a normal distributions in amplitude and phase around $\\overline{\\Delta\\mathcal{A}}$ and $\\overline{\\Delta\\Phi}$ with standard deviations being our waveform uncertainties, $\\delta\\mathcal{A}$ and $\\delta\\Phi$. Each $\\alpha$ and $\\varphi$ parameter is a piece of the total distribution along its corresponding frequency node $f_{n}$. Here, we have 6 frequency nodes spaced geometrically, so we have 6 $\\alpha$ parameters and 6 $\\varphi$ parameters."
   ]
  },
  {
   "cell_type": "code",
   "execution_count": 19,
   "id": "5b5da8ce-a267-46c3-895e-9eaeb4d582d5",
   "metadata": {},
   "outputs": [
    {
     "data": {
      "image/png": "[encoded data removed]",
      "text/plain": [
       "<Figure size 1500x600 with 2 Axes>"
      ]
     },
     "metadata": {},
     "output_type": "display_data"
    }
   ],
   "source": [
    "fig,ax = plt.subplots(1,2,figsize=(15,6))\n",
    "\n",
    "# plotting the prior\n",
    "ax[0].fill_between(frequency_grid,mean_amplitude_difference-amplitude_uncertainty,mean_amplitude_difference+amplitude_uncertainty,color='tab:red',alpha=0.4,label=r'$P(\\alpha)$',zorder=1)\n",
    "ax[0].plot(frequency_grid,mean_amplitude_difference,color='tab:red')\n",
    "# plotting the frequency nodes\n",
    "for i in range(len(frequency_nodes)):\n",
    "    ax[0].axvline(frequency_nodes[i],color='k',linewidth=0.5)\n",
    "    ax[0].annotate(r'$f_{val}$'.replace('val',str(i+1)),(frequency_nodes[i]+10,0.025))\n",
    "\n",
    "ax[0].legend(fancybox=True,loc='lower left',framealpha=1)\n",
    "ax[0].set_ylim(-0.45,0.05)\n",
    "ax[0].grid(False)\n",
    "ax[0].set_xlabel(r\"$\\mathit{f}$ [Hz]\")\n",
    "ax[0].set_ylabel(r\"$\\Delta\\mathcal{A}$\")\n",
    "ax[0].tick_params(direction='in')\n",
    "\n",
    "# plotting the prior\n",
    "ax[1].fill_between(frequency_grid,mean_phase_difference-phase_uncertainty,mean_phase_difference+phase_uncertainty,color='tab:blue',alpha=0.5,label=r'$P(\\varphi)$',zorder=1)\n",
    "ax[1].plot(frequency_grid,mean_phase_difference,color='tab:blue')\n",
    "# plotting the frequency nodes\n",
    "for i in range(len(frequency_nodes)):\n",
    "    ax[1].axvline(frequency_nodes[i],color='k',linewidth=0.5)\n",
    "    ax[1].annotate(r'$f_{val}$'.replace('val',str(i+1)),(frequency_nodes[i]+10,6))\n",
    "\n",
    "ax[1].legend(fancybox=True,loc='lower left',framealpha=1)\n",
    "ax[1].set_ylim(-1,6.5)\n",
    "ax[1].grid(False)\n",
    "ax[1].set_xlabel(r\"$\\mathit{f}$ [Hz]\")\n",
    "ax[1].set_ylabel(r\"$\\Delta\\Phi$\")\n",
    "ax[1].tick_params(direction='in')\n",
    "\n",
    "plt.show()"
   ]
  },
  {
   "cell_type": "markdown",
   "id": "f328a437-cae2-435d-b37d-248cb02ddbc2",
   "metadata": {},
   "source": [
    "<br>\n",
    "\n",
    "## Parameter Estimation Example"
   ]
  },
  {
   "cell_type": "markdown",
   "id": "2f4bb3fc-8dd9-441a-8303-11c6f1ac47b2",
   "metadata": {},
   "source": [
    "In this section, we will show how to use `WaveformUncertainty.WaveformGeneratorWFU` to perfom parameter estimation with and without the waveform uncertainty parameters."
   ]
  },
  {
   "cell_type": "markdown",
   "id": "5eb96647-ded2-4c48-8f93-2ef1549294ae",
   "metadata": {},
   "source": [
    "For this example, we will set up two parameter estimation runs: one with the waveform uncertainty correction and one without. In [Posterior Analysis](https://waveformuncertainty.readthedocs.io/en/latest/notebooks/Posterior_Analysis_Tutorial.html), we can look at the differences between the result files and examine the effectiveness of the correction."
   ]
  },
  {
   "cell_type": "markdown",
   "id": "6670603b-e940-407e-b877-74b898a4f971",
   "metadata": {},
   "source": [
    "We start by defining an injection, which will remain fixed for both runs. For simplicity, we draw a purely random set of parameters from the prior."
   ]
  },
  {
   "cell_type": "code",
   "execution_count": 9,
   "id": "b2f94120-cbb2-4a55-a8a8-4f67dbddeb48",
   "metadata": {},
   "outputs": [
    {
     "data": {
      "text/plain": [
       "{'chirp_mass': 1.1969251815179687,\n",
       " 'mass_ratio': 0.7296997048782708,\n",
       " 'chi_1': 0.023305614892867185,\n",
       " 'chi_2': 0.048347556946947076,\n",
       " 'lambda_1': 354.449871571306,\n",
       " 'lambda_2': 2361.7722256662764,\n",
       " 'phase': 2.868564583935134,\n",
       " 'luminosity_distance': 97.38750778082424,\n",
       " 'geocent_time': 1187008882.3089032,\n",
       " 'phi_12': 5.4176668413058175,\n",
       " 'phi_jl': 3.4768638767535434,\n",
       " 'theta_jn': 1.116756280245911,\n",
       " 'psi': 1.2695709169413083,\n",
       " 'ra': 3.44616,\n",
       " 'dec': -0.408084,\n",
       " 'alpha_1': -0.00048217182794752986,\n",
       " 'alpha_2': 0.0002704185731702733,\n",
       " 'alpha_3': 0.0022117456607715752,\n",
       " 'alpha_4': -0.055413942286709136,\n",
       " 'alpha_5': -0.0022819322139118747,\n",
       " 'alpha_6': -0.08704212416432076,\n",
       " 'phi_1': 0.12746362091614194,\n",
       " 'phi_2': 0.017796957084130514,\n",
       " 'phi_3': 0.1695248410592099,\n",
       " 'phi_4': 0.15776162338532995,\n",
       " 'phi_5': 2.596481890862608,\n",
       " 'phi_6': 2.527797591512699}"
      ]
     },
     "execution_count": 9,
     "metadata": {},
     "output_type": "execute_result"
    }
   ],
   "source": [
    "PE_injection = prior.sample()\n",
    "PE_injection"
   ]
  },
  {
   "cell_type": "markdown",
   "id": "1109d703-9b99-4a03-8619-a1453348f616",
   "metadata": {},
   "source": [
    "Now we can set up the waveform generator that will supply the sampler with the injected waveform. We use [WaveformUncertainty.WaveformGeneratorWFU](https://waveformuncertainty.readthedocs.io/en/latest/WaveformGeneratorWFU.html) as our waveform generator function to incoporate the injected waveform uncertainty parameters into the waveform. We include the frequency_nodes and allow the sampler to use the amplitude and phase correction parameters, $\\alpha$ and $\\varphi$."
   ]
  },
  {
   "cell_type": "code",
   "execution_count": 10,
   "id": "dfca11e1-9681-4bdf-a2e5-e27b770817db",
   "metadata": {},
   "outputs": [
    {
     "name": "stderr",
     "output_type": "stream",
     "text": [
      "18:43 bilby INFO    : Waveform generator initiated with\n",
      "  frequency_domain_source_model: bilby.gw.source.lal_binary_neutron_star\n",
      "  time_domain_source_model: None\n",
      "  parameter_conversion: bilby.gw.conversion.convert_to_lal_binary_neutron_star_parameters\n"
     ]
    }
   ],
   "source": [
    "injected_waveform = wfu.WaveformGeneratorWFU(\n",
    "                parameter_conversion=bilby.gw.conversion.convert_to_lal_binary_neutron_star_parameters,\n",
    "                waveform_arguments=dict(waveform_approximant='IMRPhenomPv2_NRTidalv2', reference_frequency=50, catch_waveform_errors=True, \n",
    "                                        f_low = 20.0, f_high=2048.0),\n",
    "                frequency_domain_source_model=bilby.gw.source.lal_binary_neutron_star, \n",
    "                sampling_frequency=4096, \n",
    "                duration=256,\n",
    "                # waveform uncertainty arguments\n",
    "                waveform_uncertainty_nodes=frequency_nodes,\n",
    "                dA_sampling=True,\n",
    "                dphi_sampling=True,\n",
    "            )"
   ]
  },
  {
   "cell_type": "markdown",
   "id": "188db4fd-f997-4a85-b5fe-ad5a3dcc00a3",
   "metadata": {},
   "source": [
    "With the waveform generator set up, we set the interferometer objects with the injected signal, which will be the same for both runs."
   ]
  },
  {
   "cell_type": "code",
   "execution_count": 12,
   "id": "7074e541-0fae-48a3-beed-2d5fd42ae407",
   "metadata": {},
   "outputs": [
    {
     "name": "stderr",
     "output_type": "stream",
     "text": [
      "18:44 bilby INFO    : Injected signal in H1:\n",
      "18:44 bilby INFO    :   optimal SNR = 15.19\n",
      "18:44 bilby INFO    :   matched filter SNR = 14.03+0.62j\n",
      "18:44 bilby INFO    :   chirp_mass = 1.1969251815179687\n",
      "18:44 bilby INFO    :   mass_ratio = 0.7296997048782708\n",
      "18:44 bilby INFO    :   chi_1 = 0.023305614892867185\n",
      "18:44 bilby INFO    :   chi_2 = 0.048347556946947076\n",
      "18:44 bilby INFO    :   lambda_1 = 354.449871571306\n",
      "18:44 bilby INFO    :   lambda_2 = 2361.7722256662764\n",
      "18:44 bilby INFO    :   phase = 2.868564583935134\n",
      "18:44 bilby INFO    :   luminosity_distance = 97.38750778082424\n",
      "18:44 bilby INFO    :   geocent_time = 1187008882.3089032\n",
      "18:44 bilby INFO    :   phi_12 = 5.4176668413058175\n",
      "18:44 bilby INFO    :   phi_jl = 3.4768638767535434\n",
      "18:44 bilby INFO    :   theta_jn = 1.116756280245911\n",
      "18:44 bilby INFO    :   psi = 1.2695709169413083\n",
      "18:44 bilby INFO    :   ra = 3.44616\n",
      "18:44 bilby INFO    :   dec = -0.408084\n",
      "18:44 bilby INFO    :   alpha_1 = -0.00048217182794752986\n",
      "18:44 bilby INFO    :   alpha_2 = 0.0002704185731702733\n",
      "18:44 bilby INFO    :   alpha_3 = 0.0022117456607715752\n",
      "18:44 bilby INFO    :   alpha_4 = -0.055413942286709136\n",
      "18:44 bilby INFO    :   alpha_5 = -0.0022819322139118747\n",
      "18:44 bilby INFO    :   alpha_6 = -0.08704212416432076\n",
      "18:44 bilby INFO    :   phi_1 = 0.12746362091614194\n",
      "18:44 bilby INFO    :   phi_2 = 0.017796957084130514\n",
      "18:44 bilby INFO    :   phi_3 = 0.1695248410592099\n",
      "18:44 bilby INFO    :   phi_4 = 0.15776162338532995\n",
      "18:44 bilby INFO    :   phi_5 = 2.596481890862608\n",
      "18:44 bilby INFO    :   phi_6 = 2.527797591512699\n",
      "18:44 bilby INFO    : Injected signal in L1:\n",
      "18:44 bilby INFO    :   optimal SNR = 11.83\n",
      "18:44 bilby INFO    :   matched filter SNR = 11.18-0.12j\n",
      "18:44 bilby INFO    :   chirp_mass = 1.1969251815179687\n",
      "18:44 bilby INFO    :   mass_ratio = 0.7296997048782708\n",
      "18:44 bilby INFO    :   chi_1 = 0.023305614892867185\n",
      "18:44 bilby INFO    :   chi_2 = 0.048347556946947076\n",
      "18:44 bilby INFO    :   lambda_1 = 354.449871571306\n",
      "18:44 bilby INFO    :   lambda_2 = 2361.7722256662764\n",
      "18:44 bilby INFO    :   phase = 2.868564583935134\n",
      "18:44 bilby INFO    :   luminosity_distance = 97.38750778082424\n",
      "18:44 bilby INFO    :   geocent_time = 1187008882.3089032\n",
      "18:44 bilby INFO    :   phi_12 = 5.4176668413058175\n",
      "18:44 bilby INFO    :   phi_jl = 3.4768638767535434\n",
      "18:44 bilby INFO    :   theta_jn = 1.116756280245911\n",
      "18:44 bilby INFO    :   psi = 1.2695709169413083\n",
      "18:44 bilby INFO    :   ra = 3.44616\n",
      "18:44 bilby INFO    :   dec = -0.408084\n",
      "18:44 bilby INFO    :   alpha_1 = -0.00048217182794752986\n",
      "18:44 bilby INFO    :   alpha_2 = 0.0002704185731702733\n",
      "18:44 bilby INFO    :   alpha_3 = 0.0022117456607715752\n",
      "18:44 bilby INFO    :   alpha_4 = -0.055413942286709136\n",
      "18:44 bilby INFO    :   alpha_5 = -0.0022819322139118747\n",
      "18:44 bilby INFO    :   alpha_6 = -0.08704212416432076\n",
      "18:44 bilby INFO    :   phi_1 = 0.12746362091614194\n",
      "18:44 bilby INFO    :   phi_2 = 0.017796957084130514\n",
      "18:44 bilby INFO    :   phi_3 = 0.1695248410592099\n",
      "18:44 bilby INFO    :   phi_4 = 0.15776162338532995\n",
      "18:44 bilby INFO    :   phi_5 = 2.596481890862608\n",
      "18:44 bilby INFO    :   phi_6 = 2.527797591512699\n"
     ]
    }
   ],
   "source": [
    "# setting up interferometers\n",
    "ifos = bilby.gw.detector.InterferometerList(['H1', 'L1'])\n",
    "ifos.set_strain_data_from_power_spectral_densities(\n",
    "    sampling_frequency=4096, duration=256,\n",
    "    start_time=PE_injection['geocent_time'] - 2)\n",
    "ifo_injection = ifos.inject_signal(\n",
    "    waveform_generator=injected_waveform,\n",
    "    parameters=PE_injection)"
   ]
  },
  {
   "cell_type": "markdown",
   "id": "63aef0b8-ee95-486c-a775-36df94b9285d",
   "metadata": {},
   "source": [
    "Now we set up for the parameter estimation runs themselves. We start with the run that does not perform the waveform uncertainty correction."
   ]
  },
  {
   "cell_type": "markdown",
   "id": "3f3a00e3-3fad-4122-8f30-d9faea5975ad",
   "metadata": {},
   "source": [
    "We set up a new waveform generator object, which we will call \"NHP_waveform\". NHP represents \"null-hypothesis\", which means that this run assumes that there are no uncertainties. We often represent its likelihood with $\\mathcal{L}_{\\varnothing}(h|\\theta)$, which does not include the $\\alpha$ and $\\varphi$ parameters. We use bilby's WaveformGenerator for this waveform."
   ]
  },
  {
   "cell_type": "code",
   "execution_count": 13,
   "id": "62922a4e-5334-49e6-92a9-9e35bcdb1bcb",
   "metadata": {},
   "outputs": [
    {
     "name": "stderr",
     "output_type": "stream",
     "text": [
      "18:50 bilby INFO    : Waveform generator initiated with\n",
      "  frequency_domain_source_model: bilby.gw.source.lal_binary_neutron_star\n",
      "  time_domain_source_model: None\n",
      "  parameter_conversion: bilby.gw.conversion.convert_to_lal_binary_neutron_star_parameters\n"
     ]
    }
   ],
   "source": [
    "NHP_waveform = bilby.gw.WaveformGenerator(\n",
    "                parameter_conversion=bilby.gw.conversion.convert_to_lal_binary_neutron_star_parameters,\n",
    "                waveform_arguments=dict(waveform_approximant='IMRPhenomPv2_NRTidalv2', reference_frequency=50, catch_waveform_errors=True, \n",
    "                                        f_low = 20.0, f_high=2048.0),\n",
    "                frequency_domain_source_model=bilby.gw.source.lal_binary_neutron_star, \n",
    "                sampling_frequency=4096, \n",
    "                duration=256,\n",
    "            )"
   ]
  },
  {
   "cell_type": "markdown",
   "id": "fd0095e2-0cee-4d2c-b644-d81959ea9af2",
   "metadata": {},
   "source": [
    "Now we define the likelihood object and the sampler. Running the sampler will start the parameter estimation run, which will take days to complete, so it will not be run here."
   ]
  },
  {
   "cell_type": "code",
   "execution_count": 14,
   "id": "889ca451-1de2-487e-aa7d-2b0e5a6ca17f",
   "metadata": {},
   "outputs": [],
   "source": [
    "likelihood = bilby.gw.likelihood.GravitationalWaveTransient(\n",
    "    ifos,\n",
    "    NHP_waveform,\n",
    "    priors=prior,\n",
    "    time_marginalization=False, \n",
    "    phase_marginalization=False, \n",
    "    distance_marginalization=False,\n",
    ")"
   ]
  },
  {
   "cell_type": "code",
   "execution_count": null,
   "id": "40eb8e3d-19eb-47fb-a914-78a6339853ea",
   "metadata": {},
   "outputs": [],
   "source": [
    "result = bilby.run_sampler(\n",
    "    likelihood, prior, sampler='nestle', \n",
    "    label=\"NHP_result\",\n",
    "    conversion_function=bilby.gw.conversion.generate_all_bns_parameters,\n",
    "    nlive=1000, \n",
    "    dlogz=1.,\n",
    "    clean=True,\n",
    "    maxiter=None,\n",
    ")"
   ]
  },
  {
   "cell_type": "markdown",
   "id": "4a9c29f6-0be2-463e-b3a0-b9990e8734bd",
   "metadata": {},
   "source": [
    "With the null-hypothesis run complete, we now set up the waveform uncertainty correction run. We will call this new waveform generator \"WFU_waveform\", where WFU respresents \"waveform uncertainty\". The likelihood for this run is denoted with $\\mathcal{L}(h|\\theta,\\alpha,\\varphi)$. We need to use [WaveformUncertainty.WaveformGeneratorWFU](https://waveformuncertainty.readthedocs.io/en/latest/WaveformGeneratorWFU.html) as the waveform generator function to use the waveform uncertainty parameters."
   ]
  },
  {
   "cell_type": "code",
   "execution_count": 15,
   "id": "9ebe2c8a-eb3f-40b4-8f11-04f9078fb430",
   "metadata": {},
   "outputs": [
    {
     "name": "stderr",
     "output_type": "stream",
     "text": [
      "18:56 bilby INFO    : Waveform generator initiated with\n",
      "  frequency_domain_source_model: bilby.gw.source.lal_binary_neutron_star\n",
      "  time_domain_source_model: None\n",
      "  parameter_conversion: bilby.gw.conversion.convert_to_lal_binary_neutron_star_parameters\n"
     ]
    }
   ],
   "source": [
    "WFU_waveform = wfu.WaveformGeneratorWFU(\n",
    "                parameter_conversion=bilby.gw.conversion.convert_to_lal_binary_neutron_star_parameters,\n",
    "                waveform_arguments=dict(waveform_approximant='IMRPhenomPv2_NRTidalv2', reference_frequency=50, catch_waveform_errors=True, \n",
    "                                        f_low = 20.0, f_high=2048.0),\n",
    "                frequency_domain_source_model=bilby.gw.source.lal_binary_neutron_star, \n",
    "                sampling_frequency=4096, \n",
    "                duration=256,\n",
    "                waveform_uncertainty_nodes=frequency_nodes,\n",
    "                dA_sampling=True,\n",
    "                dphi_sampling=True,\n",
    "            )"
   ]
  },
  {
   "cell_type": "markdown",
   "id": "b0c49ca9-c5f8-4b38-9b9a-67a7fbf00260",
   "metadata": {},
   "source": [
    "The steps of setting up the likelihood and sampler are repeated from the null-hypothesis run:"
   ]
  },
  {
   "cell_type": "code",
   "execution_count": 16,
   "id": "0b1bf054-d975-49ec-95be-ec621e9d428c",
   "metadata": {},
   "outputs": [],
   "source": [
    "likelihood = bilby.gw.likelihood.GravitationalWaveTransient(\n",
    "    ifos,\n",
    "    WFU_waveform,\n",
    "    priors=prior,\n",
    "    time_marginalization=False, \n",
    "    phase_marginalization=False, \n",
    "    distance_marginalization=False,\n",
    ")"
   ]
  },
  {
   "cell_type": "code",
   "execution_count": null,
   "id": "81a96918-197b-494e-98ca-d820fb7b9274",
   "metadata": {},
   "outputs": [],
   "source": [
    "result = bilby.run_sampler(\n",
    "    likelihood, prior, sampler='nestle', \n",
    "    label=\"WFU_result\",\n",
    "    conversion_function=bilby.gw.conversion.generate_all_bns_parameters,\n",
    "    nlive=1000, \n",
    "    dlogz=1.,\n",
    "    clean=True,\n",
    "    maxiter=None,\n",
    ")"
   ]
  },
  {
   "cell_type": "markdown",
   "id": "8d9f9f6b-83d2-4691-9552-5a2a0bf690c7",
   "metadata": {},
   "source": [
    "To see how analysis of the posteriors of these runs would be carried out, see [Posterior Analysis](https://waveformuncertainty.readthedocs.io/en/latest/notebooks/Posterior_Analysis_Tutorial.html)."
   ]
  }
 ],
 "metadata": {
  "kernelspec": {
   "display_name": " igwn-py",
   "language": "python",
   "name": "igwn-py"
  },
  "language_info": {
   "codemirror_mode": {
    "name": "ipython",
    "version": 3
   },
   "file_extension": ".py",
   "mimetype": "text/x-python",
   "name": "python",
   "nbconvert_exporter": "python",
   "pygments_lexer": "ipython3",
   "version": "3.10.14"
  }
 },
 "nbformat": 4,
 "nbformat_minor": 5
}
