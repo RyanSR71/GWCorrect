{
 "cells": [
  {
   "cell_type": "markdown",
   "id": "d7cf8016-411d-42e5-a202-fd2d43c80111",
   "metadata": {},
   "source": [
    "# Sampling Over Waveform Uncertainty"
   ]
  },
  {
   "cell_type": "markdown",
   "id": "94594295-2bd4-4869-911a-009792385a8c",
   "metadata": {},
   "source": [
    "In this tutorial, we demonstrate using this package to construct a prior of waveform uncertainty parameters and then using bilby to sample them. This notebook can be downloaded [here](https://github.com/RyanSR71/waveform_uncertainty/blob/main/docs/source/notebooks/WFU_Sampling_Tutorial.ipynb)."
   ]
  },
  {
   "cell_type": "markdown",
   "id": "67ae3df9-77f6-4f13-b322-b6b204b0d59e",
   "metadata": {},
   "source": [
    "The following cell is everything we need to import to run this tutorial. We also import the `WaveformUncertainty` package, which will need to be installed first. See [Installation](https://waveformuncertainty.readthedocs.io/en/latest/installation.html#installation)."
   ]
  },
  {
   "cell_type": "code",
   "execution_count": 2,
   "id": "89645c73-6640-4d40-8a12-87c3fbafc991",
   "metadata": {},
   "outputs": [],
   "source": [
    "import os\n",
    "import numpy as np\n",
    "import bilby\n",
    "import matplotlib.pyplot as plt\n",
    "import lal\n",
    "import pesummary\n",
    "import scipy\n",
    "from pesummary.gw.file.strain import StrainData\n",
    "from pesummary.io import read\n",
    "import requests\n",
    "import WaveformUncertainty as wfu"
   ]
  },
  {
   "cell_type": "markdown",
   "id": "83e8d5e2-b61d-4f39-ae04-d9e2ae32e4e6",
   "metadata": {},
   "source": [
    "## Setting Up the Prior"
   ]
  },
  {
   "cell_type": "markdown",
   "id": "f1264a23-98e8-40a2-87ae-855d12d8c629",
   "metadata": {},
   "source": [
    "Here we set up a binary black hole (BBH) prior with bilby."
   ]
  },
  {
   "cell_type": "code",
   "execution_count": 3,
   "id": "41c21120-8ac3-4a48-b28f-e4a8837e3dcd",
   "metadata": {},
   "outputs": [],
   "source": [
    "prior = bilby.core.prior.PriorDict()\n",
    "\n",
    "prior['chirp_mass'] = bilby.gw.prior.Uniform(name='chirp_mass',latex_label=r'$\\mathcal{M}_c$',minimum=25,maximum=100,unit=r'$\\mathrm{M}_{\\odot}$')\n",
    "prior['mass_ratio'] = bilby.gw.prior.Uniform(name='mass_2',latex_label=r'$q$',minimum=0.125,maximum=1)\n",
    "prior['chi_1'] = bilby.gw.prior.AlignedSpin(name='chi_1',latex_label=r'$\\chi_{1}$',minimum=-1,maximum=1)\n",
    "prior['chi_2'] = bilby.gw.prior.AlignedSpin(name='chi_2',latex_label=r'$\\chi_{2}$',minimum=-1,maximum=1)\n",
    "prior['luminosity_distance'] = bilby.gw.prior.UniformSourceFrame(name='luminosity_distance',latex_label=r'$\\mathcal{L}_{D}$',minimum=100, maximum=1000, unit='Mpc')\n",
    "prior['geocent_time'] = bilby.gw.prior.Uniform(name='geocent_time',latex_label=r'$t_{c}$',minimum=1126259462.3,maximum=1126259462.5,unit='s')\n",
    "prior['psi'] = bilby.core.prior.DeltaFunction(name='psi',latex_label=r'$\\psi$',peak=1.5707963267948966)\n",
    "prior['phase'] = bilby.core.prior.Uniform(name='phase',latex_label=r'$\\phi$',minimum=0,maximum=6.2831853071795865,boundary='periodic')\n",
    "prior['theta_jn'] = bilby.core.prior.Sine(name='theta_jn',latex_label=r'$\\theta_{JN}$')\n",
    "prior['dec'] = bilby.core.prior.DeltaFunction(name='dec',latex_label=r'$\\delta$',peak=-1.25781518)\n",
    "prior['ra'] = bilby.core.prior.DeltaFunction(name='ra',latex_label=r'$\\alpha_{r}$',peak=1.45617592)"
   ]
  },
  {
   "cell_type": "markdown",
   "id": "af311c7b-f8db-431a-af2e-6aec1b31476a",
   "metadata": {},
   "source": [
    "Setting up the priors is a complex process as we need to define the Gaussian components, truncation boundaries, and frequency boundaries for the amplitude and phase correction parameters. Luckily, the functions in `WaveformUncertainty` handle the complicated and tedious computation for us. However, we still need to supply the functions plenty of information."
   ]
  },
  {
   "cell_type": "markdown",
   "id": "2347acee-d347-4d0f-8146-0741bd7878b0",
   "metadata": {},
   "source": [
    "First, we need to choose a set of BBH parameters. These will be the same parameters (particularly the masses) as the BBH signal we aim to recover. This is because the boundaries on the prior in frequency space, $f_\\mathrm{IM}$ and $f_\\mathrm{light}$, depend on the mass of the signal. For real runs, this can be estimated. For our case, we know the mass exactly, so we can just plug it in."
   ]
  },
  {
   "cell_type": "code",
   "execution_count": 4,
   "id": "84b3f82c-3365-408c-8ca0-2e360a10b65d",
   "metadata": {},
   "outputs": [],
   "source": [
    "injection_parameters = dict(\n",
    "    chirp_mass = 36,\n",
    "    mass_ratio = 0.75,\n",
    "    chi_1 = 0.15,\n",
    "    chi_2 = -0.05,\n",
    "    luminosity_distance = 500,\n",
    "    geocent_time = 1126259462.4,\n",
    "    psi = 1.5707963267948966,\n",
    "    phase = 3.1415926535897932,\n",
    "    theta_jn = 1.5707963267948966,\n",
    "    dec = -1.25781518,\n",
    "    ra = 1.45617592\n",
    ")"
   ]
  },
  {
   "cell_type": "markdown",
   "id": "bdf0e449-4cc4-42a6-ac7f-16fa3c8d93b9",
   "metadata": {},
   "source": [
    "We now set up a `WaveformGeneratorWFU` object without frequency nodes or indexes to create a reference waveform. Using the frequency array of the WaveformGenerator, we interpolate power spectral density (PSD) data from [LIGO DCC](https://dcc.ligo.org/login/index.shtml) to match the waveform, which will be necessary for computing the match, $\\frak{M}$."
   ]
  },
  {
   "cell_type": "code",
   "execution_count": 5,
   "id": "210482e2-aac4-4e47-8521-740b23f39114",
   "metadata": {},
   "outputs": [
    {
     "name": "stderr",
     "output_type": "stream",
     "text": [
      "12:04 bilby INFO    : Waveform generator initiated with\n",
      "  frequency_domain_source_model: bilby.gw.source.lal_binary_black_hole\n",
      "  time_domain_source_model: None\n",
      "  parameter_conversion: bilby.gw.conversion.convert_to_lal_binary_black_hole_parameters\n"
     ]
    }
   ],
   "source": [
    "reference_waveform = wfu.WaveformGeneratorWFU(\n",
    "                    parameter_conversion=bilby.gw.conversion.convert_to_lal_binary_black_hole_parameters,\n",
    "                    waveform_arguments=dict(waveform_approximant='IMRPhenomD', reference_frequency=50.0, catch_waveform_errors=True, \n",
    "                                            f_low = 20.0, f_high=1024.0),\n",
    "                    frequency_domain_source_model=bilby.gw.source.lal_binary_black_hole, \n",
    "                    sampling_frequency=4096, \n",
    "                    duration=4, frequency_nodes=None,indexes=None\n",
    "                )\n",
    "\n",
    "# the following code interpolates the PSD data from 20 Hz (f_low) to 1024 Hz (f_high) onto the frequency array of the waveform generator\n",
    "psd_data = np.loadtxt('https://dcc.ligo.org/public/0158/P1900011/001/GWTC1_GW170817_PSDs.dat',comments='#')\n",
    "PSDs = np.interp(np.linspace(20,1024,len(reference_waveform.frequency_array)),psd_data[:,0][0:128129],psd_data[:,1][0:128129])"
   ]
  },
  {
   "cell_type": "markdown",
   "id": "89233b4d-72d6-4abb-bca7-4160d2fa1c91",
   "metadata": {},
   "source": [
    "The last pieces we need to generate the priors are the standard deviations of the waveform differences between two waveform models, $\\delta\\mathcal{A}_\\mu(f)$ and $\\delta\\phi_\\mu(f)$. We can get these from a set of parameterized waveform differences. See [Parameterization and Waveform Differences](https://waveformuncertainty.readthedocs.io/en/latest/notebooks/Parameterization_Tutorial.html)."
   ]
  },
  {
   "cell_type": "code",
   "execution_count": 6,
   "id": "5b4152bf-a448-45ef-9297-781d1177753d",
   "metadata": {},
   "outputs": [],
   "source": [
    "# downloading the file and saving to a folder\n",
    "try:\n",
    "    os.mkdir('tutorial_files')\n",
    "except:\n",
    "    pass\n",
    "file = requests.get('https://github.com/RyanSR71/waveform_uncertainty/raw/refs/heads/main/files/BBH_parameterization_nsamples_1000.npy', allow_redirects=True)\n",
    "open(\"tutorial_files/BBH_parameterization_nsamples_1000.npy\", 'wb').write(file.content)\n",
    "\n",
    "# loading the file\n",
    "parameterization = np.load(\"tutorial_files/BBH_parameterization_nsamples_1000.npy\",allow_pickle=True)\n",
    "\n",
    "# calculating the means and standard deviations of the waveform differences\n",
    "mean_amplitude_difference,amplitude_uncertainty,mean_phase_difference,phase_uncertainty,frequency_grid = wfu.uncertainties_from_parameterization(parameterization,linear=True,resolution=0.1)"
   ]
  },
  {
   "cell_type": "markdown",
   "id": "69fc0535-8045-4a89-98da-89665ebab6fe",
   "metadata": {},
   "source": [
    "We can now calculate the amplitude and phase correction priors. We choose $\\gamma\\%=97.5\\%$ as our match boundary and 5 non-zero parameters (`nnodes`). We add these priors to the existing BBH prior."
   ]
  },
  {
   "cell_type": "code",
   "execution_count": 7,
   "id": "9f438677-8159-4ea6-a23e-b43b44b6c07a",
   "metadata": {},
   "outputs": [
    {
     "name": "stdout",
     "output_type": "stream",
     "text": [
      "dA_1 Prior Complete\n",
      "dA_2 Prior Complete\n",
      "dA_3 Prior Complete\n",
      "dA_4 Prior Complete\n",
      "dA_5 Prior Complete\n",
      "Amplitude Correction Prior Complete\n"
     ]
    }
   ],
   "source": [
    "prior,frequency_nodes,indexes = wfu.WFU_dA_prior(amplitude_uncertainty,frequency_grid,injection_parameters,\n",
    "                                                 reference_waveform,PSDs,match_boundary=97.5,duration=4,\n",
    "                                                 nnodes=5,prior=prior)"
   ]
  },
  {
   "cell_type": "code",
   "execution_count": 8,
   "id": "fa07280c-5af7-4ec6-8e4d-a48168f2cfd9",
   "metadata": {},
   "outputs": [
    {
     "name": "stdout",
     "output_type": "stream",
     "text": [
      "dphi_1 Prior Complete\n",
      "dphi_2 Prior Complete\n",
      "dphi_3 Prior Complete\n",
      "dphi_4 Prior Complete\n",
      "dphi_5 Prior Complete\n",
      "Phase Correction Prior Complete\n"
     ]
    }
   ],
   "source": [
    "prior,frequency_nodes,indexes = wfu.WFU_dphi_prior(phase_uncertainty,frequency_grid,injection_parameters,\n",
    "                                                   reference_waveform,PSDs,match_boundary=97.5,duration=4,\n",
    "                                                   nnodes=5,prior=prior)"
   ]
  },
  {
   "cell_type": "markdown",
   "id": "058ac450-1c7d-4407-be44-ef7325a286a1",
   "metadata": {},
   "source": [
    "If we look at the prior, we confirm that the new parameters have been added properly. All correction priors other than dphi_1-5 and dA_1-5, i.e. dA_-3 and dphi_7, are fixed at zero and will not be sampled during parameter estimation. Their purpose is to enforce the $f_\\mathrm{IM}$ and $f_\\mathrm{light}$ boundary conditions without modifying the waveform generator itself. In other words, we handle these boundary conditions through the prior rather than through the waveform model."
   ]
  },
  {
   "cell_type": "code",
   "execution_count": 9,
   "id": "73da948d-6eeb-4f8a-bd24-b331dabd9a10",
   "metadata": {},
   "outputs": [
    {
     "data": {
      "text/plain": [
       "{'chirp_mass': Uniform(minimum=25, maximum=100, name='chirp_mass', latex_label='$\\\\mathcal{M}_c$', unit='$\\\\mathrm{M}_{\\\\odot}$', boundary=None),\n",
       " 'mass_ratio': Uniform(minimum=0.125, maximum=1, name='mass_2', latex_label='$q$', unit=None, boundary=None),\n",
       " 'chi_1': bilby.gw.prior.AlignedSpin(a_prior=Uniform(minimum=0, maximum=1, name=None, latex_label=None, unit=None, boundary=None), z_prior=Uniform(minimum=-1, maximum=1, name=None, latex_label=None, unit=None, boundary=None), name='chi_1', latex_label='$\\\\chi_{1}$', unit=None, boundary=None, minimum=-1.0, maximum=1.0),\n",
       " 'chi_2': bilby.gw.prior.AlignedSpin(a_prior=Uniform(minimum=0, maximum=1, name=None, latex_label=None, unit=None, boundary=None), z_prior=Uniform(minimum=-1, maximum=1, name=None, latex_label=None, unit=None, boundary=None), name='chi_2', latex_label='$\\\\chi_{2}$', unit=None, boundary=None, minimum=-1.0, maximum=1.0),\n",
       " 'luminosity_distance': bilby.gw.prior.UniformSourceFrame(minimum=100.0, maximum=1000.0, cosmology='Planck15', name='luminosity_distance', latex_label='$\\\\mathcal{L}_{D}$', unit='Mpc', boundary=None),\n",
       " 'geocent_time': Uniform(minimum=1126259462.3, maximum=1126259462.5, name='geocent_time', latex_label='$t_{c}$', unit='s', boundary=None),\n",
       " 'psi': DeltaFunction(peak=1.5707963267948966, name='psi', latex_label='$\\\\psi$', unit=None),\n",
       " 'phase': Uniform(minimum=0, maximum=6.283185307179586, name='phase', latex_label='$\\\\phi$', unit=None, boundary='periodic'),\n",
       " 'theta_jn': Sine(minimum=0, maximum=3.141592653589793, name='theta_jn', latex_label='$\\\\theta_{JN}$', unit=None, boundary=None),\n",
       " 'dec': DeltaFunction(peak=-1.25781518, name='dec', latex_label='$\\\\delta$', unit=None),\n",
       " 'ra': DeltaFunction(peak=1.45617592, name='ra', latex_label='$\\\\alpha_{r}$', unit=None),\n",
       " 'dA_1': TruncatedGaussian(mu=0, sigma=0.02385628288901361, minimum=-0.11928141444506804, maximum=0.11928141444506804, name='dA_1', latex_label='$\\\\alpha_{1}$', unit=None, boundary=None),\n",
       " 'dA_2': TruncatedGaussian(mu=0, sigma=0.028814728418296676, minimum=-0.14407364209148338, maximum=0.14407364209148338, name='dA_2', latex_label='$\\\\alpha_{2}$', unit=None, boundary=None),\n",
       " 'dA_3': TruncatedGaussian(mu=0, sigma=0.18520707208303583, minimum=-0.9260353604151792, maximum=0.9260353604151792, name='dA_3', latex_label='$\\\\alpha_{3}$', unit=None, boundary=None),\n",
       " 'dA_4': TruncatedGaussian(mu=0, sigma=0.6430444424653564, minimum=-3.215222212326782, maximum=3.215222212326782, name='dA_4', latex_label='$\\\\alpha_{4}$', unit=None, boundary=None),\n",
       " 'dA_5': TruncatedGaussian(mu=0, sigma=1.079716891967639, minimum=-5.398584459838195, maximum=5.398584459838195, name='dA_5', latex_label='$\\\\alpha_{5}$', unit=None, boundary=None),\n",
       " 'dA_6': DeltaFunction(peak=0, name='dA_6', latex_label='dA_6', unit=None),\n",
       " 'dA_7': DeltaFunction(peak=0, name='dA_7', latex_label='dA_7', unit=None),\n",
       " 'dA_0': DeltaFunction(peak=0, name='dA_0', latex_label='dA_0', unit=None),\n",
       " 'dA_-1': DeltaFunction(peak=0, name='dA_-1', latex_label='dA_-1', unit=None),\n",
       " 'dA_-2': DeltaFunction(peak=0, name='dA_-2', latex_label='dA_-2', unit=None),\n",
       " 'dA_-3': DeltaFunction(peak=0, name='dA_-3', latex_label='dA_-3', unit=None),\n",
       " 'dphi_1': TruncatedGaussian(mu=0, sigma=0.006699076035879118, minimum=-0.033495380179395594, maximum=0.033495380179395594, name='dphi_1', latex_label='$\\\\varphi_{1}$', unit=None, boundary=None),\n",
       " 'dphi_2': TruncatedGaussian(mu=0, sigma=0.11754120366477254, minimum=-0.5877060183238627, maximum=0.5877060183238627, name='dphi_2', latex_label='$\\\\varphi_{2}$', unit=None, boundary=None),\n",
       " 'dphi_3': TruncatedGaussian(mu=0, sigma=0.9559332632562505, minimum=-4.7796663162812525, maximum=4.7796663162812525, name='dphi_3', latex_label='$\\\\varphi_{3}$', unit=None, boundary=None),\n",
       " 'dphi_4': TruncatedGaussian(mu=0, sigma=1.677151265801951, minimum=-8.385756329009755, maximum=8.385756329009755, name='dphi_4', latex_label='$\\\\varphi_{4}$', unit=None, boundary=None),\n",
       " 'dphi_5': TruncatedGaussian(mu=0, sigma=1.6968607620646805, minimum=-8.484303810323402, maximum=8.484303810323402, name='dphi_5', latex_label='$\\\\varphi_{5}$', unit=None, boundary=None),\n",
       " 'dphi_6': DeltaFunction(peak=0, name='dphi_6', latex_label='dphi_6', unit=None),\n",
       " 'dphi_7': DeltaFunction(peak=0, name='dphi_7', latex_label='dphi_7', unit=None),\n",
       " 'dphi_0': DeltaFunction(peak=0, name='dphi_0', latex_label='dphi_0', unit=None),\n",
       " 'dphi_-1': DeltaFunction(peak=0, name='dphi_-1', latex_label='dphi_-1', unit=None),\n",
       " 'dphi_-2': DeltaFunction(peak=0, name='dphi_-2', latex_label='dphi_-2', unit=None),\n",
       " 'dphi_-3': DeltaFunction(peak=0, name='dphi_-3', latex_label='dphi_-3', unit=None)}"
      ]
     },
     "execution_count": 9,
     "metadata": {},
     "output_type": "execute_result"
    }
   ],
   "source": [
    "prior"
   ]
  },
  {
   "cell_type": "markdown",
   "id": "f328a437-cae2-435d-b37d-248cb02ddbc2",
   "metadata": {},
   "source": [
    "<br>\n",
    "\n",
    "## Parameter Estimation Example"
   ]
  },
  {
   "cell_type": "markdown",
   "id": "2f4bb3fc-8dd9-441a-8303-11c6f1ac47b2",
   "metadata": {},
   "source": [
    "In this section, we will show how to use `WaveformUncertainty.WaveformGeneratorWFU` to perfom parameter estimation with and without the waveform uncertainty parameters."
   ]
  },
  {
   "cell_type": "markdown",
   "id": "5eb96647-ded2-4c48-8f93-2ef1549294ae",
   "metadata": {},
   "source": [
    "For this example, we will set up two parameter estimation runs: one with the waveform uncertainty correction and one without. In [Posterior Analysis](https://waveformuncertainty.readthedocs.io/en/latest/notebooks/Posterior_Analysis_Tutorial.html), we can look at the differences between the result files and examine the effectiveness of the correction."
   ]
  },
  {
   "cell_type": "markdown",
   "id": "6670603b-e940-407e-b877-74b898a4f971",
   "metadata": {},
   "source": [
    "We start by defining an injection, which will remain fixed for both runs. We need to use the same injection parameters used to create the priors, so we will take a draw of the waveform uncertainty parameters and replace the BBH parameters with what we want."
   ]
  },
  {
   "cell_type": "code",
   "execution_count": 10,
   "id": "b2f94120-cbb2-4a55-a8a8-4f67dbddeb48",
   "metadata": {},
   "outputs": [
    {
     "data": {
      "text/plain": [
       "{'chirp_mass': 36,\n",
       " 'mass_ratio': 0.75,\n",
       " 'chi_1': 0.15,\n",
       " 'chi_2': -0.05,\n",
       " 'luminosity_distance': 500,\n",
       " 'geocent_time': 1126259462.4,\n",
       " 'psi': 1.5707963267948966,\n",
       " 'phase': 3.141592653589793,\n",
       " 'theta_jn': 1.5707963267948966,\n",
       " 'dec': -1.25781518,\n",
       " 'ra': 1.45617592,\n",
       " 'dA_1': -0.017759778064530222,\n",
       " 'dA_2': 0.0003511717381006798,\n",
       " 'dA_3': 0.1932166624756403,\n",
       " 'dA_4': 0.1408925985754294,\n",
       " 'dA_5': 2.04631343028506,\n",
       " 'dA_6': 0.0,\n",
       " 'dA_7': 0.0,\n",
       " 'dA_0': 0.0,\n",
       " 'dA_-1': 0.0,\n",
       " 'dA_-2': 0.0,\n",
       " 'dA_-3': 0.0,\n",
       " 'dphi_1': 0.002546134188737703,\n",
       " 'dphi_2': 0.0842469092503529,\n",
       " 'dphi_3': 1.2992935375827168,\n",
       " 'dphi_4': 0.7234911842164733,\n",
       " 'dphi_5': -1.085863983528491,\n",
       " 'dphi_6': 0.0,\n",
       " 'dphi_7': 0.0,\n",
       " 'dphi_0': 0.0,\n",
       " 'dphi_-1': 0.0,\n",
       " 'dphi_-2': 0.0,\n",
       " 'dphi_-3': 0.0}"
      ]
     },
     "execution_count": 10,
     "metadata": {},
     "output_type": "execute_result"
    }
   ],
   "source": [
    "PE_injection = prior.sample()\n",
    "for key in injection_parameters.keys():\n",
    "    PE_injection[key] = injection_parameters[key]\n",
    "PE_injection"
   ]
  },
  {
   "cell_type": "markdown",
   "id": "1109d703-9b99-4a03-8619-a1453348f616",
   "metadata": {},
   "source": [
    "Now we can set up the waveform generator that will supply the sampler with the injected waveform. We use [WaveformUncertainty.WaveformGeneratorWFU](https://waveformuncertainty.readthedocs.io/en/latest/WaveformGeneratorWFU.html) as our waveform generator function to incoporate the injected waveform uncertainty parameters into the waveform. We include the frequency_nodes and allow the sampler to use the amplitude and phase correction parameters, $\\alpha$ and $\\varphi$."
   ]
  },
  {
   "cell_type": "code",
   "execution_count": 11,
   "id": "dfca11e1-9681-4bdf-a2e5-e27b770817db",
   "metadata": {},
   "outputs": [
    {
     "name": "stderr",
     "output_type": "stream",
     "text": [
      "12:08 bilby INFO    : Waveform generator initiated with\n",
      "  frequency_domain_source_model: bilby.gw.source.lal_binary_black_hole\n",
      "  time_domain_source_model: None\n",
      "  parameter_conversion: bilby.gw.conversion.convert_to_lal_binary_black_hole_parameters\n"
     ]
    }
   ],
   "source": [
    "injected_waveform = wfu.WaveformGeneratorWFU(\n",
    "                parameter_conversion=bilby.gw.conversion.convert_to_lal_binary_black_hole_parameters,\n",
    "                waveform_arguments=dict(waveform_approximant='IMRPhenomD', reference_frequency=50, catch_waveform_errors=True, \n",
    "                                        f_low = 20.0, f_high=1024.0),\n",
    "                frequency_domain_source_model=bilby.gw.source.lal_binary_black_hole, \n",
    "                sampling_frequency=4096, \n",
    "                duration=4,\n",
    "                # waveform uncertainty arguments\n",
    "                frequency_nodes=frequency_nodes,\n",
    "                indexes=indexes\n",
    "            )"
   ]
  },
  {
   "cell_type": "markdown",
   "id": "188db4fd-f997-4a85-b5fe-ad5a3dcc00a3",
   "metadata": {},
   "source": [
    "With the waveform generator set up, we set the interferometer objects with the injected signal, which will be the same for both runs."
   ]
  },
  {
   "cell_type": "code",
   "execution_count": 12,
   "id": "7074e541-0fae-48a3-beed-2d5fd42ae407",
   "metadata": {},
   "outputs": [
    {
     "name": "stderr",
     "output_type": "stream",
     "text": [
      "12:08 bilby INFO    : Injected signal in H1:\n",
      "12:08 bilby INFO    :   optimal SNR = 11.02\n",
      "12:08 bilby INFO    :   matched filter SNR = 12.40+0.67j\n",
      "12:08 bilby INFO    :   chirp_mass = 36\n",
      "12:08 bilby INFO    :   mass_ratio = 0.75\n",
      "12:08 bilby INFO    :   chi_1 = 0.15\n",
      "12:08 bilby INFO    :   chi_2 = -0.05\n",
      "12:08 bilby INFO    :   luminosity_distance = 500\n",
      "12:08 bilby INFO    :   geocent_time = 1126259462.4\n",
      "12:08 bilby INFO    :   psi = 1.5707963267948966\n",
      "12:08 bilby INFO    :   phase = 3.141592653589793\n",
      "12:08 bilby INFO    :   theta_jn = 1.5707963267948966\n",
      "12:08 bilby INFO    :   dec = -1.25781518\n",
      "12:08 bilby INFO    :   ra = 1.45617592\n",
      "12:08 bilby INFO    :   dA_1 = -0.017759778064530222\n",
      "12:08 bilby INFO    :   dA_2 = 0.0003511717381006798\n",
      "12:08 bilby INFO    :   dA_3 = 0.1932166624756403\n",
      "12:08 bilby INFO    :   dA_4 = 0.1408925985754294\n",
      "12:08 bilby INFO    :   dA_5 = 2.04631343028506\n",
      "12:08 bilby INFO    :   dA_6 = 0.0\n",
      "12:08 bilby INFO    :   dA_7 = 0.0\n",
      "12:08 bilby INFO    :   dA_0 = 0.0\n",
      "12:08 bilby INFO    :   dA_-1 = 0.0\n",
      "12:08 bilby INFO    :   dA_-2 = 0.0\n",
      "12:08 bilby INFO    :   dA_-3 = 0.0\n",
      "12:08 bilby INFO    :   dphi_1 = 0.002546134188737703\n",
      "12:08 bilby INFO    :   dphi_2 = 0.0842469092503529\n",
      "12:08 bilby INFO    :   dphi_3 = 1.2992935375827168\n",
      "12:08 bilby INFO    :   dphi_4 = 0.7234911842164733\n",
      "12:08 bilby INFO    :   dphi_5 = -1.085863983528491\n",
      "12:08 bilby INFO    :   dphi_6 = 0.0\n",
      "12:08 bilby INFO    :   dphi_7 = 0.0\n",
      "12:08 bilby INFO    :   dphi_0 = 0.0\n",
      "12:08 bilby INFO    :   dphi_-1 = 0.0\n",
      "12:08 bilby INFO    :   dphi_-2 = 0.0\n",
      "12:08 bilby INFO    :   dphi_-3 = 0.0\n",
      "12:08 bilby INFO    : Injected signal in L1:\n",
      "12:08 bilby INFO    :   optimal SNR = 15.10\n",
      "12:08 bilby INFO    :   matched filter SNR = 17.08-0.69j\n",
      "12:08 bilby INFO    :   chirp_mass = 36\n",
      "12:08 bilby INFO    :   mass_ratio = 0.75\n",
      "12:08 bilby INFO    :   chi_1 = 0.15\n",
      "12:08 bilby INFO    :   chi_2 = -0.05\n",
      "12:08 bilby INFO    :   luminosity_distance = 500\n",
      "12:08 bilby INFO    :   geocent_time = 1126259462.4\n",
      "12:08 bilby INFO    :   psi = 1.5707963267948966\n",
      "12:08 bilby INFO    :   phase = 3.141592653589793\n",
      "12:08 bilby INFO    :   theta_jn = 1.5707963267948966\n",
      "12:08 bilby INFO    :   dec = -1.25781518\n",
      "12:08 bilby INFO    :   ra = 1.45617592\n",
      "12:08 bilby INFO    :   dA_1 = -0.017759778064530222\n",
      "12:08 bilby INFO    :   dA_2 = 0.0003511717381006798\n",
      "12:08 bilby INFO    :   dA_3 = 0.1932166624756403\n",
      "12:08 bilby INFO    :   dA_4 = 0.1408925985754294\n",
      "12:08 bilby INFO    :   dA_5 = 2.04631343028506\n",
      "12:08 bilby INFO    :   dA_6 = 0.0\n",
      "12:08 bilby INFO    :   dA_7 = 0.0\n",
      "12:08 bilby INFO    :   dA_0 = 0.0\n",
      "12:08 bilby INFO    :   dA_-1 = 0.0\n",
      "12:08 bilby INFO    :   dA_-2 = 0.0\n",
      "12:08 bilby INFO    :   dA_-3 = 0.0\n",
      "12:08 bilby INFO    :   dphi_1 = 0.002546134188737703\n",
      "12:08 bilby INFO    :   dphi_2 = 0.0842469092503529\n",
      "12:08 bilby INFO    :   dphi_3 = 1.2992935375827168\n",
      "12:08 bilby INFO    :   dphi_4 = 0.7234911842164733\n",
      "12:08 bilby INFO    :   dphi_5 = -1.085863983528491\n",
      "12:08 bilby INFO    :   dphi_6 = 0.0\n",
      "12:08 bilby INFO    :   dphi_7 = 0.0\n",
      "12:08 bilby INFO    :   dphi_0 = 0.0\n",
      "12:08 bilby INFO    :   dphi_-1 = 0.0\n",
      "12:08 bilby INFO    :   dphi_-2 = 0.0\n",
      "12:08 bilby INFO    :   dphi_-3 = 0.0\n"
     ]
    }
   ],
   "source": [
    "# setting up interferometers\n",
    "ifos = bilby.gw.detector.InterferometerList(['H1', 'L1'])\n",
    "ifos.set_strain_data_from_power_spectral_densities(\n",
    "    sampling_frequency=4096, duration=4,\n",
    "    start_time=PE_injection['geocent_time'] - 2)\n",
    "ifo_injection = ifos.inject_signal(\n",
    "    waveform_generator=injected_waveform,\n",
    "    parameters=PE_injection)"
   ]
  },
  {
   "cell_type": "markdown",
   "id": "63aef0b8-ee95-486c-a775-36df94b9285d",
   "metadata": {},
   "source": [
    "Now we set up for the parameter estimation runs themselves. We start with the run that does not perform the waveform uncertainty correction."
   ]
  },
  {
   "cell_type": "markdown",
   "id": "3f3a00e3-3fad-4122-8f30-d9faea5975ad",
   "metadata": {},
   "source": [
    "We set up a new waveform generator object, which we will call \"NHP_waveform\". NHP represents \"null-hypothesis\", which means that this run assumes that there are no uncertainties. We often represent its likelihood with $\\mathcal{L}_{\\varnothing}(h|\\theta)$, which does not include the $\\alpha$ and $\\varphi$ parameters. We use bilby's WaveformGenerator for this waveform."
   ]
  },
  {
   "cell_type": "code",
   "execution_count": 13,
   "id": "62922a4e-5334-49e6-92a9-9e35bcdb1bcb",
   "metadata": {},
   "outputs": [
    {
     "name": "stderr",
     "output_type": "stream",
     "text": [
      "12:08 bilby INFO    : Waveform generator initiated with\n",
      "  frequency_domain_source_model: bilby.gw.source.lal_binary_black_hole\n",
      "  time_domain_source_model: None\n",
      "  parameter_conversion: bilby.gw.conversion.convert_to_lal_binary_black_hole_parameters\n"
     ]
    }
   ],
   "source": [
    "NHP_waveform = bilby.gw.WaveformGenerator(\n",
    "                parameter_conversion=bilby.gw.conversion.convert_to_lal_binary_black_hole_parameters,\n",
    "                waveform_arguments=dict(waveform_approximant='IMRPhenomD', reference_frequency=50, catch_waveform_errors=True, \n",
    "                                        f_low = 20.0, f_high=1024.0),\n",
    "                frequency_domain_source_model=bilby.gw.source.lal_binary_black_hole, \n",
    "                sampling_frequency=4096, \n",
    "                duration=4,\n",
    "            )"
   ]
  },
  {
   "cell_type": "markdown",
   "id": "fd0095e2-0cee-4d2c-b644-d81959ea9af2",
   "metadata": {},
   "source": [
    "Now we define the likelihood object and the sampler. Running the sampler will start the parameter estimation run, which will take hours to complete, so it will not be run here."
   ]
  },
  {
   "cell_type": "code",
   "execution_count": 14,
   "id": "889ca451-1de2-487e-aa7d-2b0e5a6ca17f",
   "metadata": {},
   "outputs": [],
   "source": [
    "likelihood = bilby.gw.likelihood.GravitationalWaveTransient(\n",
    "    ifos,\n",
    "    NHP_waveform,\n",
    "    priors=prior,\n",
    "    time_marginalization=False, \n",
    "    phase_marginalization=False, \n",
    "    distance_marginalization=False,\n",
    ")"
   ]
  },
  {
   "cell_type": "code",
   "execution_count": null,
   "id": "40eb8e3d-19eb-47fb-a914-78a6339853ea",
   "metadata": {},
   "outputs": [],
   "source": [
    "result = bilby.run_sampler(\n",
    "    likelihood, prior, sampler='nestle', \n",
    "    label=\"NHP_result\",\n",
    "    conversion_function=bilby.gw.conversion.generate_all_bns_parameters,\n",
    "    nlive=5000, \n",
    "    dlogz=0.1,\n",
    "    clean=True,\n",
    "    maxiter=None,\n",
    ")"
   ]
  },
  {
   "cell_type": "markdown",
   "id": "4a9c29f6-0be2-463e-b3a0-b9990e8734bd",
   "metadata": {},
   "source": [
    "With the null-hypothesis run complete, we now set up the waveform uncertainty correction run. We will call this new waveform generator \"WFU_waveform\", where WFU respresents \"waveform uncertainty\". The likelihood for this run is denoted with $\\mathcal{L}(h|\\theta,\\alpha,\\varphi)$. We need to use [WaveformUncertainty.WaveformGeneratorWFU](https://waveformuncertainty.readthedocs.io/en/latest/WaveformGeneratorWFU.html) as the waveform generator function to use the waveform uncertainty parameters."
   ]
  },
  {
   "cell_type": "code",
   "execution_count": 15,
   "id": "9ebe2c8a-eb3f-40b4-8f11-04f9078fb430",
   "metadata": {},
   "outputs": [
    {
     "name": "stderr",
     "output_type": "stream",
     "text": [
      "12:08 bilby INFO    : Waveform generator initiated with\n",
      "  frequency_domain_source_model: bilby.gw.source.lal_binary_black_hole\n",
      "  time_domain_source_model: None\n",
      "  parameter_conversion: bilby.gw.conversion.convert_to_lal_binary_black_hole_parameters\n"
     ]
    }
   ],
   "source": [
    "WFU_waveform = wfu.WaveformGeneratorWFU(\n",
    "                parameter_conversion=bilby.gw.conversion.convert_to_lal_binary_black_hole_parameters,\n",
    "                waveform_arguments=dict(waveform_approximant='IMRPhenomD', reference_frequency=50, catch_waveform_errors=True, \n",
    "                                        f_low = 20.0, f_high=1024.0),\n",
    "                frequency_domain_source_model=bilby.gw.source.lal_binary_black_hole, \n",
    "                sampling_frequency=4096, \n",
    "                duration=4,\n",
    "                frequency_nodes=frequency_nodes,\n",
    "                indexes=indexes\n",
    "            )"
   ]
  },
  {
   "cell_type": "markdown",
   "id": "b0c49ca9-c5f8-4b38-9b9a-67a7fbf00260",
   "metadata": {},
   "source": [
    "The steps of setting up the likelihood and sampler are repeated from the null-hypothesis run:"
   ]
  },
  {
   "cell_type": "code",
   "execution_count": 16,
   "id": "0b1bf054-d975-49ec-95be-ec621e9d428c",
   "metadata": {},
   "outputs": [],
   "source": [
    "likelihood = bilby.gw.likelihood.GravitationalWaveTransient(\n",
    "    ifos,\n",
    "    WFU_waveform,\n",
    "    priors=prior,\n",
    "    time_marginalization=False, \n",
    "    phase_marginalization=False, \n",
    "    distance_marginalization=False,\n",
    ")"
   ]
  },
  {
   "cell_type": "code",
   "execution_count": null,
   "id": "81a96918-197b-494e-98ca-d820fb7b9274",
   "metadata": {},
   "outputs": [],
   "source": [
    "result = bilby.run_sampler(\n",
    "    likelihood, prior, sampler='nestle', \n",
    "    label=\"WFU_result\",\n",
    "    conversion_function=bilby.gw.conversion.generate_all_bns_parameters,\n",
    "    nlive=5000, \n",
    "    dlogz=0.1,\n",
    "    clean=True,\n",
    "    maxiter=None,\n",
    ")"
   ]
  },
  {
   "cell_type": "markdown",
   "id": "8d9f9f6b-83d2-4691-9552-5a2a0bf690c7",
   "metadata": {},
   "source": [
    "To see how analysis of the posteriors of these runs would be carried out, see [Posterior Analysis](https://waveformuncertainty.readthedocs.io/en/latest/notebooks/Posterior_Analysis_Tutorial.html)."
   ]
  }
 ],
 "metadata": {
  "kernelspec": {
   "display_name": "igwn-py39",
   "language": "python",
   "name": "igwn-py39"
  },
  "language_info": {
   "codemirror_mode": {
    "name": "ipython",
    "version": 3
   },
   "file_extension": ".py",
   "mimetype": "text/x-python",
   "name": "python",
   "nbconvert_exporter": "python",
   "pygments_lexer": "ipython3",
   "version": "3.9.19"
  }
 },
 "nbformat": 4,
 "nbformat_minor": 5
}
